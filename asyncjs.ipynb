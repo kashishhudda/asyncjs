{
  "nbformat": 4,
  "nbformat_minor": 0,
  "metadata": {
    "colab": {
      "provenance": []
    },
    "kernelspec": {
      "name": "python3",
      "display_name": "Python 3"
    },
    "language_info": {
      "name": "python"
    }
  },
  "cells": [
    {
      "cell_type": "markdown",
      "source": [
        "1. Demonstrate JavaScript's Single-Threaded Nature\n",
        "\n",
        " Question:\n",
        "\n",
        " Write an example to show that JavaScript is single-threaded by creating two competing tasks, one that\n",
        " blocks the event loop and another async fun\n",
        "  - JavaScript runs on a single thread, meaning it executes one task at a time.\n",
        "If one task blocks the event loop, other tasks must wait — even asynchronous ones."
      ],
      "metadata": {
        "id": "YiTZ96NZaFaJ"
      }
    },
    {
      "cell_type": "code",
      "source": [
        "// Blocking task\n",
        "function blockingTask() {\n",
        "  console.log(\"Starting blocking task...\");\n",
        "  const start = Date.now();\n",
        "  while (Date.now() - start < 3000) {\n",
        "    // This loop blocks the event loop for 3 seconds\n",
        "  }\n",
        "  console.log(\"Blocking task finished!\");\n",
        "}\n",
        "\n",
        "// Async task\n",
        "async function asyncTask() {\n",
        "  console.log(\"Async task started...\");\n",
        "  await new Promise(resolve => setTimeout(resolve, 1000));\n",
        "  console.log(\"Async task finished after 1s delay!\");\n",
        "}\n",
        "\n",
        "blockingTask();\n",
        "asyncTask();\n",
        "console.log(\"Main thread still running...\");\n"
      ],
      "metadata": {
        "id": "tALeOLMobMzE"
      },
      "execution_count": null,
      "outputs": []
    },
    {
      "cell_type": "markdown",
      "source": [
        "2. Why Does JavaScript Not Execute Asynchronously by Default?\n",
        "\n",
        " Question:\n",
        "\n",
        " JavaScript is often called synchronous and single-threaded, yet it handles asynchronous tasks like AJAX\n",
        " requests, timers, and event listenersB\n",
        "5B Explain why JavaScript does not execute asynchronously by defaultB\n",
        "JB Write a code snippet to prove that JavaScript is inherently synchronousB\n",
        " - JavaScript is single-threaded and synchronous by design — it executes one line at a time from top to bottom.\n",
        "Asynchronous behavior (like setTimeout, fetch, or promises) comes from the browser’s Web APIs or Node.js APIs, not from JavaScript itself.\n",
        "\n",
        "The event loop manages async tasks after the main (synchronous) code finishes."
      ],
      "metadata": {
        "id": "tJAE8C6BaQFI"
      }
    },
    {
      "cell_type": "code",
      "source": [
        "console.log(\"1. Start\");\n",
        "\n",
        "setTimeout(() => {\n",
        "  console.log(\"2. Timeout callback\");\n",
        "}, 0);\n",
        "\n",
        "console.log(\"3. End\");\n",
        "\n",
        "\"\"\"Output\"\"\"\n",
        "1. Start\n",
        "3. End\n",
        "2. Timeout callback\n"
      ],
      "metadata": {
        "id": "x4Qn3LQxbaTw"
      },
      "execution_count": null,
      "outputs": []
    },
    {
      "cell_type": "markdown",
      "source": [
        "3. Modify the delay function to chain multiple promises so that three messages are logged in sequence with delays\n",
        "- You can chain Promises to perform multiple async tasks in sequence."
      ],
      "metadata": {
        "id": "X44Ar204aUtm"
      }
    },
    {
      "cell_type": "code",
      "source": [
        "function delay(ms, message) {\n",
        "  return new Promise(resolve => {\n",
        "    setTimeout(() => {\n",
        "      console.log(message);\n",
        "      resolve();\n",
        "    }, ms);\n",
        "  });\n",
        "}\n",
        "\n",
        "// Chaining promises\n",
        "delay(1000, \"First message after 1s\")\n",
        "  .then(() => delay(2000, \"Second message after 2s\"))\n",
        "  .then(() => delay(1000, \"Third message after 1s\"));\n",
        "\n",
        "\"\"\"Output\"\"\"\n",
        "First message after 1s\n",
        "Second message after 2s\n",
        "Third message after 1s\n"
      ],
      "metadata": {
        "id": "4K02hn7Jbkdf"
      },
      "execution_count": null,
      "outputs": []
    },
    {
      "cell_type": "markdown",
      "source": [
        "4. What are the different states of a Promise, and how do they transition"
      ],
      "metadata": {
        "id": "Al3DulgQadM4"
      }
    },
    {
      "cell_type": "code",
      "source": [
        "const myPromise = new Promise((resolve, reject) => {\n",
        "  const success = true;\n",
        "  if (success) {\n",
        "    resolve(\" Promise fulfilled!\");\n",
        "  } else {\n",
        "    reject(\" Promise rejected!\");\n",
        "  }\n",
        "});\n",
        "\n",
        "myPromise\n",
        "  .then(result => console.log(result))\n",
        "  .catch(error => console.log(error));\n"
      ],
      "metadata": {
        "id": "CmHundMKbx9U"
      },
      "execution_count": null,
      "outputs": []
    },
    {
      "cell_type": "markdown",
      "source": [
        "5. How does the JavaScript event loop handle Promises differently from setTimeout?\n",
        "- setTimeout() is placed in the macro task queue.\n",
        "\n",
        " * Promises (.then) go to the micro task queue.\n",
        "\n",
        " * The event loop executes all microtasks before the next macrotask."
      ],
      "metadata": {
        "id": "xiY6RtYEagrk"
      }
    },
    {
      "cell_type": "code",
      "source": [
        "console.log(\"Start\");\n",
        "\n",
        "setTimeout(() => console.log(\"setTimeout callback\"), 0);\n",
        "\n",
        "Promise.resolve().then(() => console.log(\"Promise resolved\"));\n",
        "\n",
        "console.log(\"End\");\n",
        "\n",
        "\"\"\"Output\"\"\"\n",
        "Start\n",
        "End\n",
        "Promise resolved\n",
        "setTimeout callback\n"
      ],
      "metadata": {
        "id": "imA-HUXFb_vf"
      },
      "execution_count": null,
      "outputs": []
    }
  ]
}